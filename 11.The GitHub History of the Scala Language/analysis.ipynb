{
 "cells": [
  {
   "cell_type": "markdown",
   "id": "a77bcf94",
   "metadata": {},
   "source": [
    "## 1. Scala's real-world project repository data\n",
    "<p>With almost 30k commits and a history spanning over ten years, Scala is a mature programming language. It is a general-purpose programming language that has recently become another prominent language for data scientists.</p>\n",
    "<p>Scala is also an open source project. Open source projects have the advantage that their entire development histories -- who made changes, what was changed, code reviews, etc. -- publicly available. </p>\n",
    "<p>We're going to read in, clean up, and visualize the real world project repository of Scala that spans data from a version control system (Git) as well as a project hosting site (GitHub). We will find out who has had the most influence on its development and who are the experts.</p>\n",
    "<p>The dataset we will use, which has been previously mined and extracted directly from GitHub, is comprised of two files:</p>\n",
    "<ol>\n",
    "<li><code>pulls.csv</code> contains the basic information about the pull requests.</li>\n",
    "<li><code>pull_files.csv</code> contains the files that were modified by each pull request.</li>\n",
    "</ol>"
   ]
  },
  {
   "cell_type": "code",
   "execution_count": 1,
   "id": "7f5b7ed8",
   "metadata": {},
   "outputs": [],
   "source": [
    "import pandas as pd\n",
    "import numpy as np\n",
    "import seaborn as sns\n",
    "import matplotlib.pyplot as plt"
   ]
  },
  {
   "cell_type": "code",
   "execution_count": 2,
   "id": "bdd622ab",
   "metadata": {},
   "outputs": [
    {
     "data": {
      "text/html": [
       "<div>\n",
       "<style scoped>\n",
       "    .dataframe tbody tr th:only-of-type {\n",
       "        vertical-align: middle;\n",
       "    }\n",
       "\n",
       "    .dataframe tbody tr th {\n",
       "        vertical-align: top;\n",
       "    }\n",
       "\n",
       "    .dataframe thead th {\n",
       "        text-align: right;\n",
       "    }\n",
       "</style>\n",
       "<table border=\"1\" class=\"dataframe\">\n",
       "  <thead>\n",
       "    <tr style=\"text-align: right;\">\n",
       "      <th></th>\n",
       "      <th>pid</th>\n",
       "      <th>user</th>\n",
       "      <th>date</th>\n",
       "    </tr>\n",
       "  </thead>\n",
       "  <tbody>\n",
       "    <tr>\n",
       "      <th>0</th>\n",
       "      <td>163314316</td>\n",
       "      <td>hrhino</td>\n",
       "      <td>2018-01-16T23:29:16Z</td>\n",
       "    </tr>\n",
       "    <tr>\n",
       "      <th>1</th>\n",
       "      <td>163061502</td>\n",
       "      <td>joroKr21</td>\n",
       "      <td>2018-01-15T23:44:52Z</td>\n",
       "    </tr>\n",
       "    <tr>\n",
       "      <th>2</th>\n",
       "      <td>163057333</td>\n",
       "      <td>mkeskells</td>\n",
       "      <td>2018-01-15T23:05:06Z</td>\n",
       "    </tr>\n",
       "    <tr>\n",
       "      <th>3</th>\n",
       "      <td>162985594</td>\n",
       "      <td>lrytz</td>\n",
       "      <td>2018-01-15T15:52:39Z</td>\n",
       "    </tr>\n",
       "    <tr>\n",
       "      <th>4</th>\n",
       "      <td>162838837</td>\n",
       "      <td>zuvizudar</td>\n",
       "      <td>2018-01-14T19:16:16Z</td>\n",
       "    </tr>\n",
       "  </tbody>\n",
       "</table>\n",
       "</div>"
      ],
      "text/plain": [
       "         pid       user                  date\n",
       "0  163314316     hrhino  2018-01-16T23:29:16Z\n",
       "1  163061502   joroKr21  2018-01-15T23:44:52Z\n",
       "2  163057333  mkeskells  2018-01-15T23:05:06Z\n",
       "3  162985594      lrytz  2018-01-15T15:52:39Z\n",
       "4  162838837  zuvizudar  2018-01-14T19:16:16Z"
      ]
     },
     "execution_count": 2,
     "metadata": {},
     "output_type": "execute_result"
    }
   ],
   "source": [
    "pulls=pd.read_csv(\"datasets/pulls.csv\")\n",
    "pulls.head()"
   ]
  },
  {
   "cell_type": "code",
   "execution_count": 3,
   "id": "88d276e6",
   "metadata": {},
   "outputs": [
    {
     "data": {
      "text/html": [
       "<div>\n",
       "<style scoped>\n",
       "    .dataframe tbody tr th:only-of-type {\n",
       "        vertical-align: middle;\n",
       "    }\n",
       "\n",
       "    .dataframe tbody tr th {\n",
       "        vertical-align: top;\n",
       "    }\n",
       "\n",
       "    .dataframe thead th {\n",
       "        text-align: right;\n",
       "    }\n",
       "</style>\n",
       "<table border=\"1\" class=\"dataframe\">\n",
       "  <thead>\n",
       "    <tr style=\"text-align: right;\">\n",
       "      <th></th>\n",
       "      <th>pid</th>\n",
       "      <th>file</th>\n",
       "    </tr>\n",
       "  </thead>\n",
       "  <tbody>\n",
       "    <tr>\n",
       "      <th>0</th>\n",
       "      <td>163314316</td>\n",
       "      <td>test/files/pos/t5638/Among.java</td>\n",
       "    </tr>\n",
       "    <tr>\n",
       "      <th>1</th>\n",
       "      <td>163314316</td>\n",
       "      <td>test/files/pos/t5638/Usage.scala</td>\n",
       "    </tr>\n",
       "    <tr>\n",
       "      <th>2</th>\n",
       "      <td>163314316</td>\n",
       "      <td>test/files/pos/t9291.scala</td>\n",
       "    </tr>\n",
       "    <tr>\n",
       "      <th>3</th>\n",
       "      <td>163314316</td>\n",
       "      <td>test/files/run/t8348.check</td>\n",
       "    </tr>\n",
       "    <tr>\n",
       "      <th>4</th>\n",
       "      <td>163314316</td>\n",
       "      <td>test/files/run/t8348/TableColumn.java</td>\n",
       "    </tr>\n",
       "  </tbody>\n",
       "</table>\n",
       "</div>"
      ],
      "text/plain": [
       "         pid                                   file\n",
       "0  163314316        test/files/pos/t5638/Among.java\n",
       "1  163314316       test/files/pos/t5638/Usage.scala\n",
       "2  163314316             test/files/pos/t9291.scala\n",
       "3  163314316             test/files/run/t8348.check\n",
       "4  163314316  test/files/run/t8348/TableColumn.java"
      ]
     },
     "execution_count": 3,
     "metadata": {},
     "output_type": "execute_result"
    }
   ],
   "source": [
    "pull_files=pd.read_csv(\"datasets/pull_files.csv\")\n",
    "pull_files.head()"
   ]
  },
  {
   "cell_type": "markdown",
   "id": "c8852d0f",
   "metadata": {},
   "source": [
    "## 2. Cleaning the data\n",
    "<p>The raw data extracted from GitHub contains dates in the ISO8601 format. However, <code>pandas</code> imports them as regular strings. To make our analysis easier, we need to convert the strings into Python's <code>DateTime</code> objects. <code>DateTime</code> objects have the important property that they can be compared and sorted.</p>\n",
    "<p>The pull request times are all in UTC (also known as Coordinated Universal Time). The commit times, however, are in the local time of the author with time zone information (number of hours difference from UTC). To make comparisons easy, we should convert all times to UTC.</p>"
   ]
  },
  {
   "cell_type": "code",
   "execution_count": 4,
   "id": "b6b12eec",
   "metadata": {},
   "outputs": [],
   "source": [
    "pulls[\"date\"]=pd.to_datetime(pulls[\"date\"],utc=True)"
   ]
  },
  {
   "cell_type": "code",
   "execution_count": 5,
   "id": "18bdd698",
   "metadata": {},
   "outputs": [
    {
     "data": {
      "text/plain": [
       "pid                   int64\n",
       "user                 object\n",
       "date    datetime64[ns, UTC]\n",
       "dtype: object"
      ]
     },
     "execution_count": 5,
     "metadata": {},
     "output_type": "execute_result"
    }
   ],
   "source": [
    "pulls.dtypes"
   ]
  },
  {
   "cell_type": "markdown",
   "id": "d867ddba",
   "metadata": {},
   "source": [
    "## 3. Merging the DataFrames\n",
    "<p>The data extracted comes in two separate files. Merging the two DataFrames will make it easier for us to analyze the data in the future tasks.</p>"
   ]
  },
  {
   "cell_type": "code",
   "execution_count": 6,
   "id": "d4f819eb",
   "metadata": {},
   "outputs": [],
   "source": [
    "merged_df=pd.merge(pulls,pull_files,on=\"pid\",how=\"inner\")"
   ]
  },
  {
   "cell_type": "code",
   "execution_count": 7,
   "id": "52126fe5",
   "metadata": {},
   "outputs": [
    {
     "data": {
      "text/html": [
       "<div>\n",
       "<style scoped>\n",
       "    .dataframe tbody tr th:only-of-type {\n",
       "        vertical-align: middle;\n",
       "    }\n",
       "\n",
       "    .dataframe tbody tr th {\n",
       "        vertical-align: top;\n",
       "    }\n",
       "\n",
       "    .dataframe thead th {\n",
       "        text-align: right;\n",
       "    }\n",
       "</style>\n",
       "<table border=\"1\" class=\"dataframe\">\n",
       "  <thead>\n",
       "    <tr style=\"text-align: right;\">\n",
       "      <th></th>\n",
       "      <th>pid</th>\n",
       "      <th>user</th>\n",
       "      <th>date</th>\n",
       "      <th>file</th>\n",
       "    </tr>\n",
       "  </thead>\n",
       "  <tbody>\n",
       "    <tr>\n",
       "      <th>0</th>\n",
       "      <td>163314316</td>\n",
       "      <td>hrhino</td>\n",
       "      <td>2018-01-16 23:29:16+00:00</td>\n",
       "      <td>test/files/pos/t5638/Among.java</td>\n",
       "    </tr>\n",
       "    <tr>\n",
       "      <th>1</th>\n",
       "      <td>163314316</td>\n",
       "      <td>hrhino</td>\n",
       "      <td>2018-01-16 23:29:16+00:00</td>\n",
       "      <td>test/files/pos/t5638/Usage.scala</td>\n",
       "    </tr>\n",
       "    <tr>\n",
       "      <th>2</th>\n",
       "      <td>163314316</td>\n",
       "      <td>hrhino</td>\n",
       "      <td>2018-01-16 23:29:16+00:00</td>\n",
       "      <td>test/files/pos/t9291.scala</td>\n",
       "    </tr>\n",
       "    <tr>\n",
       "      <th>3</th>\n",
       "      <td>163314316</td>\n",
       "      <td>hrhino</td>\n",
       "      <td>2018-01-16 23:29:16+00:00</td>\n",
       "      <td>test/files/run/t8348.check</td>\n",
       "    </tr>\n",
       "    <tr>\n",
       "      <th>4</th>\n",
       "      <td>163314316</td>\n",
       "      <td>hrhino</td>\n",
       "      <td>2018-01-16 23:29:16+00:00</td>\n",
       "      <td>test/files/run/t8348/TableColumn.java</td>\n",
       "    </tr>\n",
       "    <tr>\n",
       "      <th>...</th>\n",
       "      <td>...</td>\n",
       "      <td>...</td>\n",
       "      <td>...</td>\n",
       "      <td>...</td>\n",
       "    </tr>\n",
       "    <tr>\n",
       "      <th>85583</th>\n",
       "      <td>547354</td>\n",
       "      <td>szeiger</td>\n",
       "      <td>2011-12-01 14:03:23+00:00</td>\n",
       "      <td>test/files/run/bitsets.check</td>\n",
       "    </tr>\n",
       "    <tr>\n",
       "      <th>85584</th>\n",
       "      <td>547354</td>\n",
       "      <td>szeiger</td>\n",
       "      <td>2011-12-01 14:03:23+00:00</td>\n",
       "      <td>test/files/run/bitsets.scala</td>\n",
       "    </tr>\n",
       "    <tr>\n",
       "      <th>85585</th>\n",
       "      <td>547150</td>\n",
       "      <td>odersky</td>\n",
       "      <td>2011-12-01 12:39:40+00:00</td>\n",
       "      <td>src/compiler/scala/tools/nsc/transform/LiftCod...</td>\n",
       "    </tr>\n",
       "    <tr>\n",
       "      <th>85586</th>\n",
       "      <td>547150</td>\n",
       "      <td>odersky</td>\n",
       "      <td>2011-12-01 12:39:40+00:00</td>\n",
       "      <td>src/library/scala/reflect/api/Trees.scala</td>\n",
       "    </tr>\n",
       "    <tr>\n",
       "      <th>85587</th>\n",
       "      <td>547003</td>\n",
       "      <td>robinst</td>\n",
       "      <td>2011-12-01 11:42:26+00:00</td>\n",
       "      <td>README.rst</td>\n",
       "    </tr>\n",
       "  </tbody>\n",
       "</table>\n",
       "<p>85588 rows × 4 columns</p>\n",
       "</div>"
      ],
      "text/plain": [
       "             pid     user                      date  \\\n",
       "0      163314316   hrhino 2018-01-16 23:29:16+00:00   \n",
       "1      163314316   hrhino 2018-01-16 23:29:16+00:00   \n",
       "2      163314316   hrhino 2018-01-16 23:29:16+00:00   \n",
       "3      163314316   hrhino 2018-01-16 23:29:16+00:00   \n",
       "4      163314316   hrhino 2018-01-16 23:29:16+00:00   \n",
       "...          ...      ...                       ...   \n",
       "85583     547354  szeiger 2011-12-01 14:03:23+00:00   \n",
       "85584     547354  szeiger 2011-12-01 14:03:23+00:00   \n",
       "85585     547150  odersky 2011-12-01 12:39:40+00:00   \n",
       "85586     547150  odersky 2011-12-01 12:39:40+00:00   \n",
       "85587     547003  robinst 2011-12-01 11:42:26+00:00   \n",
       "\n",
       "                                                    file  \n",
       "0                        test/files/pos/t5638/Among.java  \n",
       "1                       test/files/pos/t5638/Usage.scala  \n",
       "2                             test/files/pos/t9291.scala  \n",
       "3                             test/files/run/t8348.check  \n",
       "4                  test/files/run/t8348/TableColumn.java  \n",
       "...                                                  ...  \n",
       "85583                       test/files/run/bitsets.check  \n",
       "85584                       test/files/run/bitsets.scala  \n",
       "85585  src/compiler/scala/tools/nsc/transform/LiftCod...  \n",
       "85586          src/library/scala/reflect/api/Trees.scala  \n",
       "85587                                         README.rst  \n",
       "\n",
       "[85588 rows x 4 columns]"
      ]
     },
     "execution_count": 7,
     "metadata": {},
     "output_type": "execute_result"
    }
   ],
   "source": [
    "merged_df"
   ]
  },
  {
   "cell_type": "markdown",
   "id": "193dd0d2",
   "metadata": {},
   "source": [
    "## 4. Is the project still actively maintained?\n",
    "<p>The activity in an open source project is not very consistent. Some projects might be active for many years after the initial release, while others can slowly taper out into oblivion. Before committing to contributing to a project, it is important to understand the state of the project. Is development going steadily, or is there a drop? Has the project been abandoned altogether?</p>\n",
    "<p>The data used in this project was collected in January of 2018. We are interested in the evolution of the number of contributions up to that date.</p>\n",
    "<p>For Scala, we will do this by plotting a chart of the project's activity. We will calculate the number of pull requests submitted each (calendar) month during the project's lifetime. We will then plot these numbers to see the trend of contributions.</p>"
   ]
  },
  {
   "cell_type": "code",
   "execution_count": 8,
   "id": "2effe740",
   "metadata": {},
   "outputs": [
    {
     "data": {
      "text/html": [
       "<div>\n",
       "<style scoped>\n",
       "    .dataframe tbody tr th:only-of-type {\n",
       "        vertical-align: middle;\n",
       "    }\n",
       "\n",
       "    .dataframe tbody tr th {\n",
       "        vertical-align: top;\n",
       "    }\n",
       "\n",
       "    .dataframe thead th {\n",
       "        text-align: right;\n",
       "    }\n",
       "</style>\n",
       "<table border=\"1\" class=\"dataframe\">\n",
       "  <thead>\n",
       "    <tr style=\"text-align: right;\">\n",
       "      <th></th>\n",
       "      <th>pid</th>\n",
       "      <th>user</th>\n",
       "      <th>date</th>\n",
       "      <th>month_year</th>\n",
       "    </tr>\n",
       "  </thead>\n",
       "  <tbody>\n",
       "    <tr>\n",
       "      <th>0</th>\n",
       "      <td>163314316</td>\n",
       "      <td>hrhino</td>\n",
       "      <td>2018-01-16 23:29:16+00:00</td>\n",
       "      <td>2018-1</td>\n",
       "    </tr>\n",
       "    <tr>\n",
       "      <th>1</th>\n",
       "      <td>163061502</td>\n",
       "      <td>joroKr21</td>\n",
       "      <td>2018-01-15 23:44:52+00:00</td>\n",
       "      <td>2018-1</td>\n",
       "    </tr>\n",
       "    <tr>\n",
       "      <th>2</th>\n",
       "      <td>163057333</td>\n",
       "      <td>mkeskells</td>\n",
       "      <td>2018-01-15 23:05:06+00:00</td>\n",
       "      <td>2018-1</td>\n",
       "    </tr>\n",
       "    <tr>\n",
       "      <th>3</th>\n",
       "      <td>162985594</td>\n",
       "      <td>lrytz</td>\n",
       "      <td>2018-01-15 15:52:39+00:00</td>\n",
       "      <td>2018-1</td>\n",
       "    </tr>\n",
       "    <tr>\n",
       "      <th>4</th>\n",
       "      <td>162838837</td>\n",
       "      <td>zuvizudar</td>\n",
       "      <td>2018-01-14 19:16:16+00:00</td>\n",
       "      <td>2018-1</td>\n",
       "    </tr>\n",
       "    <tr>\n",
       "      <th>...</th>\n",
       "      <td>...</td>\n",
       "      <td>...</td>\n",
       "      <td>...</td>\n",
       "      <td>...</td>\n",
       "    </tr>\n",
       "    <tr>\n",
       "      <th>6195</th>\n",
       "      <td>547941</td>\n",
       "      <td>xeno-by</td>\n",
       "      <td>2011-12-01 16:16:42+00:00</td>\n",
       "      <td>2011-12</td>\n",
       "    </tr>\n",
       "    <tr>\n",
       "      <th>6196</th>\n",
       "      <td>547354</td>\n",
       "      <td>szeiger</td>\n",
       "      <td>2011-12-01 14:03:23+00:00</td>\n",
       "      <td>2011-12</td>\n",
       "    </tr>\n",
       "    <tr>\n",
       "      <th>6197</th>\n",
       "      <td>547150</td>\n",
       "      <td>odersky</td>\n",
       "      <td>2011-12-01 12:39:40+00:00</td>\n",
       "      <td>2011-12</td>\n",
       "    </tr>\n",
       "    <tr>\n",
       "      <th>6198</th>\n",
       "      <td>547003</td>\n",
       "      <td>robinst</td>\n",
       "      <td>2011-12-01 11:42:26+00:00</td>\n",
       "      <td>2011-12</td>\n",
       "    </tr>\n",
       "    <tr>\n",
       "      <th>6199</th>\n",
       "      <td>546847</td>\n",
       "      <td>odersky</td>\n",
       "      <td>2011-12-01 10:41:01+00:00</td>\n",
       "      <td>2011-12</td>\n",
       "    </tr>\n",
       "  </tbody>\n",
       "</table>\n",
       "<p>6200 rows × 4 columns</p>\n",
       "</div>"
      ],
      "text/plain": [
       "            pid       user                      date month_year\n",
       "0     163314316     hrhino 2018-01-16 23:29:16+00:00     2018-1\n",
       "1     163061502   joroKr21 2018-01-15 23:44:52+00:00     2018-1\n",
       "2     163057333  mkeskells 2018-01-15 23:05:06+00:00     2018-1\n",
       "3     162985594      lrytz 2018-01-15 15:52:39+00:00     2018-1\n",
       "4     162838837  zuvizudar 2018-01-14 19:16:16+00:00     2018-1\n",
       "...         ...        ...                       ...        ...\n",
       "6195     547941    xeno-by 2011-12-01 16:16:42+00:00    2011-12\n",
       "6196     547354    szeiger 2011-12-01 14:03:23+00:00    2011-12\n",
       "6197     547150    odersky 2011-12-01 12:39:40+00:00    2011-12\n",
       "6198     547003    robinst 2011-12-01 11:42:26+00:00    2011-12\n",
       "6199     546847    odersky 2011-12-01 10:41:01+00:00    2011-12\n",
       "\n",
       "[6200 rows x 4 columns]"
      ]
     },
     "execution_count": 8,
     "metadata": {},
     "output_type": "execute_result"
    }
   ],
   "source": [
    "pulls[\"month_year\"]=pulls[\"date\"].apply(lambda x: str(x.year) +\"-\"+str(x.month))\n",
    "pulls"
   ]
  },
  {
   "cell_type": "code",
   "execution_count": 9,
   "id": "9ab593ce",
   "metadata": {},
   "outputs": [
    {
     "data": {
      "text/html": [
       "<div>\n",
       "<style scoped>\n",
       "    .dataframe tbody tr th:only-of-type {\n",
       "        vertical-align: middle;\n",
       "    }\n",
       "\n",
       "    .dataframe tbody tr th {\n",
       "        vertical-align: top;\n",
       "    }\n",
       "\n",
       "    .dataframe thead th {\n",
       "        text-align: right;\n",
       "    }\n",
       "</style>\n",
       "<table border=\"1\" class=\"dataframe\">\n",
       "  <thead>\n",
       "    <tr style=\"text-align: right;\">\n",
       "      <th></th>\n",
       "      <th>month_year</th>\n",
       "      <th>pid</th>\n",
       "    </tr>\n",
       "  </thead>\n",
       "  <tbody>\n",
       "    <tr>\n",
       "      <th>0</th>\n",
       "      <td>2011-12</td>\n",
       "      <td>83</td>\n",
       "    </tr>\n",
       "    <tr>\n",
       "      <th>1</th>\n",
       "      <td>2012-1</td>\n",
       "      <td>69</td>\n",
       "    </tr>\n",
       "    <tr>\n",
       "      <th>2</th>\n",
       "      <td>2012-10</td>\n",
       "      <td>116</td>\n",
       "    </tr>\n",
       "    <tr>\n",
       "      <th>3</th>\n",
       "      <td>2012-11</td>\n",
       "      <td>135</td>\n",
       "    </tr>\n",
       "    <tr>\n",
       "      <th>4</th>\n",
       "      <td>2012-12</td>\n",
       "      <td>145</td>\n",
       "    </tr>\n",
       "    <tr>\n",
       "      <th>...</th>\n",
       "      <td>...</td>\n",
       "      <td>...</td>\n",
       "    </tr>\n",
       "    <tr>\n",
       "      <th>69</th>\n",
       "      <td>2017-6</td>\n",
       "      <td>46</td>\n",
       "    </tr>\n",
       "    <tr>\n",
       "      <th>70</th>\n",
       "      <td>2017-7</td>\n",
       "      <td>50</td>\n",
       "    </tr>\n",
       "    <tr>\n",
       "      <th>71</th>\n",
       "      <td>2017-8</td>\n",
       "      <td>33</td>\n",
       "    </tr>\n",
       "    <tr>\n",
       "      <th>72</th>\n",
       "      <td>2017-9</td>\n",
       "      <td>54</td>\n",
       "    </tr>\n",
       "    <tr>\n",
       "      <th>73</th>\n",
       "      <td>2018-1</td>\n",
       "      <td>23</td>\n",
       "    </tr>\n",
       "  </tbody>\n",
       "</table>\n",
       "<p>74 rows × 2 columns</p>\n",
       "</div>"
      ],
      "text/plain": [
       "   month_year  pid\n",
       "0     2011-12   83\n",
       "1      2012-1   69\n",
       "2     2012-10  116\n",
       "3     2012-11  135\n",
       "4     2012-12  145\n",
       "..        ...  ...\n",
       "69     2017-6   46\n",
       "70     2017-7   50\n",
       "71     2017-8   33\n",
       "72     2017-9   54\n",
       "73     2018-1   23\n",
       "\n",
       "[74 rows x 2 columns]"
      ]
     },
     "execution_count": 9,
     "metadata": {},
     "output_type": "execute_result"
    }
   ],
   "source": [
    "c=pulls.groupby(\"month_year\")[\"pid\"].count().reset_index()\n",
    "c"
   ]
  },
  {
   "cell_type": "code",
   "execution_count": 10,
   "id": "cbc41ec6",
   "metadata": {},
   "outputs": [
    {
     "data": {
      "text/plain": [
       "([0,\n",
       "  1,\n",
       "  2,\n",
       "  3,\n",
       "  4,\n",
       "  5,\n",
       "  6,\n",
       "  7,\n",
       "  8,\n",
       "  9,\n",
       "  10,\n",
       "  11,\n",
       "  12,\n",
       "  13,\n",
       "  14,\n",
       "  15,\n",
       "  16,\n",
       "  17,\n",
       "  18,\n",
       "  19,\n",
       "  20,\n",
       "  21,\n",
       "  22,\n",
       "  23,\n",
       "  24,\n",
       "  25,\n",
       "  26,\n",
       "  27,\n",
       "  28,\n",
       "  29,\n",
       "  30,\n",
       "  31,\n",
       "  32,\n",
       "  33,\n",
       "  34,\n",
       "  35,\n",
       "  36,\n",
       "  37,\n",
       "  38,\n",
       "  39,\n",
       "  40,\n",
       "  41,\n",
       "  42,\n",
       "  43,\n",
       "  44,\n",
       "  45,\n",
       "  46,\n",
       "  47,\n",
       "  48,\n",
       "  49,\n",
       "  50,\n",
       "  51,\n",
       "  52,\n",
       "  53,\n",
       "  54,\n",
       "  55,\n",
       "  56,\n",
       "  57,\n",
       "  58,\n",
       "  59,\n",
       "  60,\n",
       "  61,\n",
       "  62,\n",
       "  63,\n",
       "  64,\n",
       "  65,\n",
       "  66,\n",
       "  67,\n",
       "  68,\n",
       "  69,\n",
       "  70,\n",
       "  71,\n",
       "  72,\n",
       "  73],\n",
       " [Text(0, 0, '2011-12'),\n",
       "  Text(1, 0, '2012-1'),\n",
       "  Text(2, 0, '2012-10'),\n",
       "  Text(3, 0, '2012-11'),\n",
       "  Text(4, 0, '2012-12'),\n",
       "  Text(5, 0, '2012-2'),\n",
       "  Text(6, 0, '2012-3'),\n",
       "  Text(7, 0, '2012-4'),\n",
       "  Text(8, 0, '2012-5'),\n",
       "  Text(9, 0, '2012-6'),\n",
       "  Text(10, 0, '2012-7'),\n",
       "  Text(11, 0, '2012-8'),\n",
       "  Text(12, 0, '2012-9'),\n",
       "  Text(13, 0, '2013-1'),\n",
       "  Text(14, 0, '2013-10'),\n",
       "  Text(15, 0, '2013-11'),\n",
       "  Text(16, 0, '2013-12'),\n",
       "  Text(17, 0, '2013-2'),\n",
       "  Text(18, 0, '2013-3'),\n",
       "  Text(19, 0, '2013-4'),\n",
       "  Text(20, 0, '2013-5'),\n",
       "  Text(21, 0, '2013-6'),\n",
       "  Text(22, 0, '2013-7'),\n",
       "  Text(23, 0, '2013-8'),\n",
       "  Text(24, 0, '2013-9'),\n",
       "  Text(25, 0, '2014-1'),\n",
       "  Text(26, 0, '2014-10'),\n",
       "  Text(27, 0, '2014-11'),\n",
       "  Text(28, 0, '2014-12'),\n",
       "  Text(29, 0, '2014-2'),\n",
       "  Text(30, 0, '2014-3'),\n",
       "  Text(31, 0, '2014-4'),\n",
       "  Text(32, 0, '2014-5'),\n",
       "  Text(33, 0, '2014-6'),\n",
       "  Text(34, 0, '2014-7'),\n",
       "  Text(35, 0, '2014-8'),\n",
       "  Text(36, 0, '2014-9'),\n",
       "  Text(37, 0, '2015-1'),\n",
       "  Text(38, 0, '2015-10'),\n",
       "  Text(39, 0, '2015-11'),\n",
       "  Text(40, 0, '2015-12'),\n",
       "  Text(41, 0, '2015-2'),\n",
       "  Text(42, 0, '2015-3'),\n",
       "  Text(43, 0, '2015-4'),\n",
       "  Text(44, 0, '2015-5'),\n",
       "  Text(45, 0, '2015-6'),\n",
       "  Text(46, 0, '2015-7'),\n",
       "  Text(47, 0, '2015-8'),\n",
       "  Text(48, 0, '2015-9'),\n",
       "  Text(49, 0, '2016-1'),\n",
       "  Text(50, 0, '2016-10'),\n",
       "  Text(51, 0, '2016-11'),\n",
       "  Text(52, 0, '2016-12'),\n",
       "  Text(53, 0, '2016-2'),\n",
       "  Text(54, 0, '2016-3'),\n",
       "  Text(55, 0, '2016-4'),\n",
       "  Text(56, 0, '2016-5'),\n",
       "  Text(57, 0, '2016-6'),\n",
       "  Text(58, 0, '2016-7'),\n",
       "  Text(59, 0, '2016-8'),\n",
       "  Text(60, 0, '2016-9'),\n",
       "  Text(61, 0, '2017-1'),\n",
       "  Text(62, 0, '2017-10'),\n",
       "  Text(63, 0, '2017-11'),\n",
       "  Text(64, 0, '2017-12'),\n",
       "  Text(65, 0, '2017-2'),\n",
       "  Text(66, 0, '2017-3'),\n",
       "  Text(67, 0, '2017-4'),\n",
       "  Text(68, 0, '2017-5'),\n",
       "  Text(69, 0, '2017-6'),\n",
       "  Text(70, 0, '2017-7'),\n",
       "  Text(71, 0, '2017-8'),\n",
       "  Text(72, 0, '2017-9'),\n",
       "  Text(73, 0, '2018-1')])"
      ]
     },
     "execution_count": 10,
     "metadata": {},
     "output_type": "execute_result"
    },
    {
     "data": {
      "image/png": "[encoded data removed]",
      "text/plain": [
       "<Figure size 2000x800 with 1 Axes>"
      ]
     },
     "metadata": {},
     "output_type": "display_data"
    }
   ],
   "source": [
    "plt.figure(figsize=(20,8))\n",
    "sns.lineplot(data=c,x=\"month_year\",y=\"pid\")\n",
    "plt.xticks(rotation=90)"
   ]
  },
  {
   "cell_type": "code",
   "execution_count": 11,
   "id": "38ce1bc6",
   "metadata": {
    "scrolled": true
   },
   "outputs": [
    {
     "data": {
      "text/plain": [
       "(array([ 0,  1,  2,  3,  4,  5,  6,  7,  8,  9, 10, 11, 12, 13, 14, 15, 16,\n",
       "        17, 18, 19, 20, 21, 22, 23, 24, 25, 26, 27, 28, 29, 30, 31, 32, 33,\n",
       "        34, 35, 36, 37, 38, 39, 40, 41, 42, 43, 44, 45, 46, 47, 48, 49, 50,\n",
       "        51, 52, 53, 54, 55, 56, 57, 58, 59, 60, 61, 62, 63, 64, 65, 66, 67,\n",
       "        68, 69, 70, 71, 72, 73]),\n",
       " [Text(0, 0, '2011-12'),\n",
       "  Text(1, 0, '2012-1'),\n",
       "  Text(2, 0, '2012-10'),\n",
       "  Text(3, 0, '2012-11'),\n",
       "  Text(4, 0, '2012-12'),\n",
       "  Text(5, 0, '2012-2'),\n",
       "  Text(6, 0, '2012-3'),\n",
       "  Text(7, 0, '2012-4'),\n",
       "  Text(8, 0, '2012-5'),\n",
       "  Text(9, 0, '2012-6'),\n",
       "  Text(10, 0, '2012-7'),\n",
       "  Text(11, 0, '2012-8'),\n",
       "  Text(12, 0, '2012-9'),\n",
       "  Text(13, 0, '2013-1'),\n",
       "  Text(14, 0, '2013-10'),\n",
       "  Text(15, 0, '2013-11'),\n",
       "  Text(16, 0, '2013-12'),\n",
       "  Text(17, 0, '2013-2'),\n",
       "  Text(18, 0, '2013-3'),\n",
       "  Text(19, 0, '2013-4'),\n",
       "  Text(20, 0, '2013-5'),\n",
       "  Text(21, 0, '2013-6'),\n",
       "  Text(22, 0, '2013-7'),\n",
       "  Text(23, 0, '2013-8'),\n",
       "  Text(24, 0, '2013-9'),\n",
       "  Text(25, 0, '2014-1'),\n",
       "  Text(26, 0, '2014-10'),\n",
       "  Text(27, 0, '2014-11'),\n",
       "  Text(28, 0, '2014-12'),\n",
       "  Text(29, 0, '2014-2'),\n",
       "  Text(30, 0, '2014-3'),\n",
       "  Text(31, 0, '2014-4'),\n",
       "  Text(32, 0, '2014-5'),\n",
       "  Text(33, 0, '2014-6'),\n",
       "  Text(34, 0, '2014-7'),\n",
       "  Text(35, 0, '2014-8'),\n",
       "  Text(36, 0, '2014-9'),\n",
       "  Text(37, 0, '2015-1'),\n",
       "  Text(38, 0, '2015-10'),\n",
       "  Text(39, 0, '2015-11'),\n",
       "  Text(40, 0, '2015-12'),\n",
       "  Text(41, 0, '2015-2'),\n",
       "  Text(42, 0, '2015-3'),\n",
       "  Text(43, 0, '2015-4'),\n",
       "  Text(44, 0, '2015-5'),\n",
       "  Text(45, 0, '2015-6'),\n",
       "  Text(46, 0, '2015-7'),\n",
       "  Text(47, 0, '2015-8'),\n",
       "  Text(48, 0, '2015-9'),\n",
       "  Text(49, 0, '2016-1'),\n",
       "  Text(50, 0, '2016-10'),\n",
       "  Text(51, 0, '2016-11'),\n",
       "  Text(52, 0, '2016-12'),\n",
       "  Text(53, 0, '2016-2'),\n",
       "  Text(54, 0, '2016-3'),\n",
       "  Text(55, 0, '2016-4'),\n",
       "  Text(56, 0, '2016-5'),\n",
       "  Text(57, 0, '2016-6'),\n",
       "  Text(58, 0, '2016-7'),\n",
       "  Text(59, 0, '2016-8'),\n",
       "  Text(60, 0, '2016-9'),\n",
       "  Text(61, 0, '2017-1'),\n",
       "  Text(62, 0, '2017-10'),\n",
       "  Text(63, 0, '2017-11'),\n",
       "  Text(64, 0, '2017-12'),\n",
       "  Text(65, 0, '2017-2'),\n",
       "  Text(66, 0, '2017-3'),\n",
       "  Text(67, 0, '2017-4'),\n",
       "  Text(68, 0, '2017-5'),\n",
       "  Text(69, 0, '2017-6'),\n",
       "  Text(70, 0, '2017-7'),\n",
       "  Text(71, 0, '2017-8'),\n",
       "  Text(72, 0, '2017-9'),\n",
       "  Text(73, 0, '2018-1')])"
      ]
     },
     "execution_count": 11,
     "metadata": {},
     "output_type": "execute_result"
    },
    {
     "data": {
      "image/png": "[encoded data removed]",
      "text/plain": [
       "<Figure size 2000x800 with 1 Axes>"
      ]
     },
     "metadata": {},
     "output_type": "display_data"
    }
   ],
   "source": [
    "plt.figure(figsize=(20,8))\n",
    "sns.barplot(data=c,x=\"month_year\",y=\"pid\")\n",
    "plt.xticks(rotation=90)"
   ]
  },
  {
   "cell_type": "markdown",
   "id": "97a8f848",
   "metadata": {},
   "source": [
    "## 5. Is there camaraderie in the project?\n",
    "<p>The organizational structure varies from one project to another, and it can influence your success as a contributor. A project that has a very small community might not be the best one to start working on. The small community might indicate a high barrier of entry. This can be caused by several factors, including a community that is reluctant to accept pull requests from \"outsiders,\" that the code base is hard to work with, etc. However, a large community can serve as an indicator that the project is regularly accepting pull requests from new contributors. Such a project would be a good place to start.</p>\n",
    "<p>In order to evaluate the dynamics of the community, we will plot a histogram of the number of pull requests submitted by each user. A distribution that shows that there are few people that only contribute a small number of pull requests can be used as in indicator that the project is not welcoming of new contributors. </p>"
   ]
  },
  {
   "cell_type": "code",
   "execution_count": 12,
   "id": "bec410ab",
   "metadata": {},
   "outputs": [
    {
     "data": {
      "text/plain": [
       "retronym         1030\n",
       "xeno-by           477\n",
       "adriaanm          474\n",
       "paulp             440\n",
       "som-snytt         376\n",
       "                 ... \n",
       "qilab               1\n",
       "stusmall            1\n",
       "VladimirRP          1\n",
       "nicolasstucki       1\n",
       "robinst             1\n",
       "Name: user, Length: 467, dtype: int64"
      ]
     },
     "execution_count": 12,
     "metadata": {},
     "output_type": "execute_result"
    }
   ],
   "source": [
    "pulls[\"user\"].value_counts()"
   ]
  },
  {
   "cell_type": "code",
   "execution_count": 13,
   "id": "3d66681a",
   "metadata": {},
   "outputs": [
    {
     "data": {
      "text/html": [
       "<div>\n",
       "<style scoped>\n",
       "    .dataframe tbody tr th:only-of-type {\n",
       "        vertical-align: middle;\n",
       "    }\n",
       "\n",
       "    .dataframe tbody tr th {\n",
       "        vertical-align: top;\n",
       "    }\n",
       "\n",
       "    .dataframe thead th {\n",
       "        text-align: right;\n",
       "    }\n",
       "</style>\n",
       "<table border=\"1\" class=\"dataframe\">\n",
       "  <thead>\n",
       "    <tr style=\"text-align: right;\">\n",
       "      <th></th>\n",
       "      <th>user</th>\n",
       "      <th>date</th>\n",
       "    </tr>\n",
       "  </thead>\n",
       "  <tbody>\n",
       "    <tr>\n",
       "      <th>0</th>\n",
       "      <td>0xmohit</td>\n",
       "      <td>1</td>\n",
       "    </tr>\n",
       "    <tr>\n",
       "      <th>1</th>\n",
       "      <td>193s</td>\n",
       "      <td>4</td>\n",
       "    </tr>\n",
       "    <tr>\n",
       "      <th>2</th>\n",
       "      <td>2m</td>\n",
       "      <td>3</td>\n",
       "    </tr>\n",
       "    <tr>\n",
       "      <th>3</th>\n",
       "      <td>4.00E+06</td>\n",
       "      <td>2</td>\n",
       "    </tr>\n",
       "    <tr>\n",
       "      <th>4</th>\n",
       "      <td>AlexeyIvanov8</td>\n",
       "      <td>1</td>\n",
       "    </tr>\n",
       "    <tr>\n",
       "      <th>...</th>\n",
       "      <td>...</td>\n",
       "      <td>...</td>\n",
       "    </tr>\n",
       "    <tr>\n",
       "      <th>462</th>\n",
       "      <td>yinxusen</td>\n",
       "      <td>1</td>\n",
       "    </tr>\n",
       "    <tr>\n",
       "      <th>463</th>\n",
       "      <td>yllan</td>\n",
       "      <td>2</td>\n",
       "    </tr>\n",
       "    <tr>\n",
       "      <th>464</th>\n",
       "      <td>ziggystar</td>\n",
       "      <td>2</td>\n",
       "    </tr>\n",
       "    <tr>\n",
       "      <th>465</th>\n",
       "      <td>zsxwing</td>\n",
       "      <td>2</td>\n",
       "    </tr>\n",
       "    <tr>\n",
       "      <th>466</th>\n",
       "      <td>zuvizudar</td>\n",
       "      <td>1</td>\n",
       "    </tr>\n",
       "  </tbody>\n",
       "</table>\n",
       "<p>467 rows × 2 columns</p>\n",
       "</div>"
      ],
      "text/plain": [
       "              user  date\n",
       "0          0xmohit     1\n",
       "1             193s     4\n",
       "2               2m     3\n",
       "3         4.00E+06     2\n",
       "4    AlexeyIvanov8     1\n",
       "..             ...   ...\n",
       "462       yinxusen     1\n",
       "463          yllan     2\n",
       "464      ziggystar     2\n",
       "465        zsxwing     2\n",
       "466      zuvizudar     1\n",
       "\n",
       "[467 rows x 2 columns]"
      ]
     },
     "execution_count": 13,
     "metadata": {},
     "output_type": "execute_result"
    }
   ],
   "source": [
    "d=pulls.groupby(\"user\")[\"date\"].count().reset_index()\n",
    "d"
   ]
  },
  {
   "cell_type": "code",
   "execution_count": 14,
   "id": "914ca425",
   "metadata": {},
   "outputs": [
    {
     "data": {
      "text/plain": [
       "<Axes: xlabel='date', ylabel='Count'>"
      ]
     },
     "execution_count": 14,
     "metadata": {},
     "output_type": "execute_result"
    },
    {
     "data": {
      "image/png": "[encoded data removed]",
      "text/plain": [
       "<Figure size 640x480 with 1 Axes>"
      ]
     },
     "metadata": {},
     "output_type": "display_data"
    }
   ],
   "source": [
    "sns.histplot(data=d,x=\"date\",bins=[0,100,200,300,400,500,600,700,800,900,1000])"
   ]
  },
  {
   "cell_type": "code",
   "execution_count": 15,
   "id": "4a5a5fdb",
   "metadata": {},
   "outputs": [
    {
     "data": {
      "text/plain": [
       "<Axes: xlabel='date', ylabel='Count'>"
      ]
     },
     "execution_count": 15,
     "metadata": {},
     "output_type": "execute_result"
    },
    {
     "data": {
      "image/png": "[encoded data removed]",
      "text/plain": [
       "<Figure size 640x480 with 1 Axes>"
      ]
     },
     "metadata": {},
     "output_type": "display_data"
    }
   ],
   "source": [
    "sns.histplot(data=d,x=\"date\",bins=[0,10,20,30,40,50,60,70,80,90,100])"
   ]
  },
  {
   "cell_type": "markdown",
   "id": "e9d5d7d3",
   "metadata": {},
   "source": [
    "## 6. What files were changed in the last ten pull requests?\n",
    "<p>Choosing the right place to make a contribution is as important as choosing the project to contribute to. Some parts of the code might be stable, some might be dead. Contributing there might not have the most impact. Therefore it is important to understand the parts of the system that have been recently changed. This allows us to pinpoint the \"hot\" areas of the code where most of the activity is happening. Focusing on those parts might not the most effective use of our times.</p>"
   ]
  },
  {
   "cell_type": "code",
   "execution_count": 16,
   "id": "2842e966",
   "metadata": {},
   "outputs": [
    {
     "data": {
      "text/html": [
       "<div>\n",
       "<style scoped>\n",
       "    .dataframe tbody tr th:only-of-type {\n",
       "        vertical-align: middle;\n",
       "    }\n",
       "\n",
       "    .dataframe tbody tr th {\n",
       "        vertical-align: top;\n",
       "    }\n",
       "\n",
       "    .dataframe thead th {\n",
       "        text-align: right;\n",
       "    }\n",
       "</style>\n",
       "<table border=\"1\" class=\"dataframe\">\n",
       "  <thead>\n",
       "    <tr style=\"text-align: right;\">\n",
       "      <th></th>\n",
       "      <th>pid</th>\n",
       "      <th>user</th>\n",
       "      <th>date</th>\n",
       "      <th>month_year</th>\n",
       "    </tr>\n",
       "  </thead>\n",
       "  <tbody>\n",
       "    <tr>\n",
       "      <th>0</th>\n",
       "      <td>163314316</td>\n",
       "      <td>hrhino</td>\n",
       "      <td>2018-01-16 23:29:16+00:00</td>\n",
       "      <td>2018-1</td>\n",
       "    </tr>\n",
       "    <tr>\n",
       "      <th>1</th>\n",
       "      <td>163061502</td>\n",
       "      <td>joroKr21</td>\n",
       "      <td>2018-01-15 23:44:52+00:00</td>\n",
       "      <td>2018-1</td>\n",
       "    </tr>\n",
       "    <tr>\n",
       "      <th>2</th>\n",
       "      <td>163057333</td>\n",
       "      <td>mkeskells</td>\n",
       "      <td>2018-01-15 23:05:06+00:00</td>\n",
       "      <td>2018-1</td>\n",
       "    </tr>\n",
       "    <tr>\n",
       "      <th>3</th>\n",
       "      <td>162985594</td>\n",
       "      <td>lrytz</td>\n",
       "      <td>2018-01-15 15:52:39+00:00</td>\n",
       "      <td>2018-1</td>\n",
       "    </tr>\n",
       "    <tr>\n",
       "      <th>4</th>\n",
       "      <td>162838837</td>\n",
       "      <td>zuvizudar</td>\n",
       "      <td>2018-01-14 19:16:16+00:00</td>\n",
       "      <td>2018-1</td>\n",
       "    </tr>\n",
       "    <tr>\n",
       "      <th>5</th>\n",
       "      <td>162765232</td>\n",
       "      <td>howtonotwin</td>\n",
       "      <td>2018-01-13 04:37:17+00:00</td>\n",
       "      <td>2018-1</td>\n",
       "    </tr>\n",
       "    <tr>\n",
       "      <th>6</th>\n",
       "      <td>162643301</td>\n",
       "      <td>hrhino</td>\n",
       "      <td>2018-01-12 14:29:49+00:00</td>\n",
       "      <td>2018-1</td>\n",
       "    </tr>\n",
       "    <tr>\n",
       "      <th>7</th>\n",
       "      <td>162256029</td>\n",
       "      <td>mkeskells</td>\n",
       "      <td>2018-01-10 23:20:03+00:00</td>\n",
       "      <td>2018-1</td>\n",
       "    </tr>\n",
       "    <tr>\n",
       "      <th>8</th>\n",
       "      <td>162197834</td>\n",
       "      <td>SethTisue</td>\n",
       "      <td>2018-01-10 18:31:25+00:00</td>\n",
       "      <td>2018-1</td>\n",
       "    </tr>\n",
       "    <tr>\n",
       "      <th>9</th>\n",
       "      <td>162011899</td>\n",
       "      <td>joroKr21</td>\n",
       "      <td>2018-01-10 00:45:57+00:00</td>\n",
       "      <td>2018-1</td>\n",
       "    </tr>\n",
       "  </tbody>\n",
       "</table>\n",
       "</div>"
      ],
      "text/plain": [
       "         pid         user                      date month_year\n",
       "0  163314316       hrhino 2018-01-16 23:29:16+00:00     2018-1\n",
       "1  163061502     joroKr21 2018-01-15 23:44:52+00:00     2018-1\n",
       "2  163057333    mkeskells 2018-01-15 23:05:06+00:00     2018-1\n",
       "3  162985594        lrytz 2018-01-15 15:52:39+00:00     2018-1\n",
       "4  162838837    zuvizudar 2018-01-14 19:16:16+00:00     2018-1\n",
       "5  162765232  howtonotwin 2018-01-13 04:37:17+00:00     2018-1\n",
       "6  162643301       hrhino 2018-01-12 14:29:49+00:00     2018-1\n",
       "7  162256029    mkeskells 2018-01-10 23:20:03+00:00     2018-1\n",
       "8  162197834    SethTisue 2018-01-10 18:31:25+00:00     2018-1\n",
       "9  162011899     joroKr21 2018-01-10 00:45:57+00:00     2018-1"
      ]
     },
     "execution_count": 16,
     "metadata": {},
     "output_type": "execute_result"
    }
   ],
   "source": [
    "f=pulls.sort_values(by=\"date\",ascending=False).head(10)\n",
    "f"
   ]
  },
  {
   "cell_type": "code",
   "execution_count": 17,
   "id": "68597677",
   "metadata": {},
   "outputs": [
    {
     "data": {
      "text/plain": [
       "{'LICENSE',\n",
       " 'doc/LICENSE.md',\n",
       " 'doc/License.rtf',\n",
       " 'project/VersionUtil.scala',\n",
       " 'src/compiler/scala/reflect/reify/phases/Calculate.scala',\n",
       " 'src/compiler/scala/tools/nsc/backend/jvm/BCodeHelpers.scala',\n",
       " 'src/compiler/scala/tools/nsc/backend/jvm/PostProcessor.scala',\n",
       " 'src/compiler/scala/tools/nsc/backend/jvm/analysis/BackendUtils.scala',\n",
       " 'src/compiler/scala/tools/nsc/profile/AsyncHelper.scala',\n",
       " 'src/compiler/scala/tools/nsc/profile/Profiler.scala',\n",
       " 'src/compiler/scala/tools/nsc/symtab/classfile/ClassfileParser.scala',\n",
       " 'src/compiler/scala/tools/nsc/typechecker/Contexts.scala',\n",
       " 'src/library/scala/Predef.scala',\n",
       " 'src/library/scala/concurrent/Lock.scala',\n",
       " 'src/library/scala/util/Properties.scala',\n",
       " 'src/reflect/scala/reflect/internal/pickling/ByteCodecs.scala',\n",
       " 'src/reflect/scala/reflect/internal/tpe/GlbLubs.scala',\n",
       " 'src/scaladoc/scala/tools/nsc/doc/html/page/Entity.scala',\n",
       " 'src/scalap/decoder.properties',\n",
       " 'test/files/neg/leibniz-liskov.check',\n",
       " 'test/files/neg/leibniz-liskov.scala',\n",
       " 'test/files/pos/leibniz-liskov.scala',\n",
       " 'test/files/pos/leibniz_liskov.scala',\n",
       " 'test/files/pos/parallel-classloader.scala',\n",
       " 'test/files/pos/t10568/Converter.java',\n",
       " 'test/files/pos/t10568/Impl.scala',\n",
       " 'test/files/pos/t10686.scala',\n",
       " 'test/files/pos/t5638/Among.java',\n",
       " 'test/files/pos/t5638/Usage.scala',\n",
       " 'test/files/pos/t9291.scala',\n",
       " 'test/files/run/t8348.check',\n",
       " 'test/files/run/t8348/TableColumn.java',\n",
       " 'test/files/run/t8348/TableColumnImpl.java',\n",
       " 'test/files/run/t8348/Test.scala'}"
      ]
     },
     "execution_count": 17,
     "metadata": {},
     "output_type": "execute_result"
    }
   ],
   "source": [
    "l=list(pd.merge(f,pull_files,on=\"pid\")[\"file\"])\n",
    "s=set(l)\n",
    "s"
   ]
  },
  {
   "cell_type": "markdown",
   "id": "8534a410",
   "metadata": {},
   "source": [
    "## 7. Who made the most pull requests to a given file?\n",
    "<p>When contributing to a project, we might need some guidance. We might find ourselves needing some information regarding the codebase. It is important direct any questions to the right person. Contributors to open source projects generally have other day jobs, so their time is limited. It is important to address our questions to the right people. One way to identify the right target for our inquiries is by using their contribution history.</p>\n",
    "<p>We identified <code>src/compiler/scala/reflect/reify/phases/Calculate.scala</code> as being recently changed. We are interested in the top 3 developers who changed that file. Those developers are the ones most likely to have the best understanding of the code.</p>"
   ]
  },
  {
   "cell_type": "code",
   "execution_count": 18,
   "id": "0af179ab",
   "metadata": {},
   "outputs": [
    {
     "data": {
      "text/plain": [
       "user\n",
       "xeno-by     11\n",
       "retronym     5\n",
       "soc          4\n",
       "Name: pid, dtype: int64"
      ]
     },
     "execution_count": 18,
     "metadata": {},
     "output_type": "execute_result"
    }
   ],
   "source": [
    "merged_df[merged_df[\"file\"]==\"src/compiler/scala/reflect/reify/phases/Calculate.scala\"].groupby(\"user\").count()[\"pid\"].sort_values(ascending=False).head(3)"
   ]
  },
  {
   "cell_type": "markdown",
   "id": "9193a381",
   "metadata": {},
   "source": [
    "## 8. Who made the last ten pull requests on a given file?\n",
    "<p>Open source projects suffer from fluctuating membership. This makes the problem of finding the right person more challenging: the person has to be knowledgeable <em>and</em> still be involved in the project. A person that contributed a lot in the past might no longer be available (or willing) to help. To get a better understanding, we need to investigate the more recent history of that particular part of the system. </p>\n",
    "<p>Like in the previous task, we will look at the history of  <code>src/compiler/scala/reflect/reify/phases/Calculate.scala</code>.</p>"
   ]
  },
  {
   "cell_type": "code",
   "execution_count": 19,
   "id": "512c9ba4",
   "metadata": {},
   "outputs": [
    {
     "data": {
      "text/html": [
       "<div>\n",
       "<style scoped>\n",
       "    .dataframe tbody tr th:only-of-type {\n",
       "        vertical-align: middle;\n",
       "    }\n",
       "\n",
       "    .dataframe tbody tr th {\n",
       "        vertical-align: top;\n",
       "    }\n",
       "\n",
       "    .dataframe thead th {\n",
       "        text-align: right;\n",
       "    }\n",
       "</style>\n",
       "<table border=\"1\" class=\"dataframe\">\n",
       "  <thead>\n",
       "    <tr style=\"text-align: right;\">\n",
       "      <th></th>\n",
       "      <th>pid</th>\n",
       "      <th>user</th>\n",
       "      <th>date</th>\n",
       "      <th>file</th>\n",
       "    </tr>\n",
       "  </thead>\n",
       "  <tbody>\n",
       "    <tr>\n",
       "      <th>13</th>\n",
       "      <td>162838837</td>\n",
       "      <td>zuvizudar</td>\n",
       "      <td>2018-01-14 19:16:16+00:00</td>\n",
       "      <td>src/compiler/scala/reflect/reify/phases/Calcul...</td>\n",
       "    </tr>\n",
       "    <tr>\n",
       "      <th>26951</th>\n",
       "      <td>22845163</td>\n",
       "      <td>retronym</td>\n",
       "      <td>2014-10-16 10:23:42+00:00</td>\n",
       "      <td>src/compiler/scala/reflect/reify/phases/Calcul...</td>\n",
       "    </tr>\n",
       "    <tr>\n",
       "      <th>32753</th>\n",
       "      <td>12102550</td>\n",
       "      <td>xeno-by</td>\n",
       "      <td>2014-02-01 01:19:58+00:00</td>\n",
       "      <td>src/compiler/scala/reflect/reify/phases/Calcul...</td>\n",
       "    </tr>\n",
       "    <tr>\n",
       "      <th>35420</th>\n",
       "      <td>10587633</td>\n",
       "      <td>retronym</td>\n",
       "      <td>2013-12-06 10:04:43+00:00</td>\n",
       "      <td>src/compiler/scala/reflect/reify/phases/Calcul...</td>\n",
       "    </tr>\n",
       "    <tr>\n",
       "      <th>46700</th>\n",
       "      <td>5320191</td>\n",
       "      <td>soc</td>\n",
       "      <td>2013-04-23 15:47:45+00:00</td>\n",
       "      <td>src/compiler/scala/reflect/reify/phases/Calcul...</td>\n",
       "    </tr>\n",
       "    <tr>\n",
       "      <th>47009</th>\n",
       "      <td>5291974</td>\n",
       "      <td>bjornregnell</td>\n",
       "      <td>2013-04-22 13:56:06+00:00</td>\n",
       "      <td>src/compiler/scala/reflect/reify/phases/Calcul...</td>\n",
       "    </tr>\n",
       "    <tr>\n",
       "      <th>47567</th>\n",
       "      <td>5050360</td>\n",
       "      <td>retronym</td>\n",
       "      <td>2013-04-09 06:13:57+00:00</td>\n",
       "      <td>src/compiler/scala/reflect/reify/phases/Calcul...</td>\n",
       "    </tr>\n",
       "    <tr>\n",
       "      <th>47965</th>\n",
       "      <td>5026775</td>\n",
       "      <td>retronym</td>\n",
       "      <td>2013-04-08 07:07:45+00:00</td>\n",
       "      <td>src/compiler/scala/reflect/reify/phases/Calcul...</td>\n",
       "    </tr>\n",
       "    <tr>\n",
       "      <th>49156</th>\n",
       "      <td>4786005</td>\n",
       "      <td>starblood</td>\n",
       "      <td>2013-03-25 02:48:48+00:00</td>\n",
       "      <td>src/compiler/scala/reflect/reify/phases/Calcul...</td>\n",
       "    </tr>\n",
       "    <tr>\n",
       "      <th>51313</th>\n",
       "      <td>4295399</td>\n",
       "      <td>retronym</td>\n",
       "      <td>2013-02-24 21:43:43+00:00</td>\n",
       "      <td>src/compiler/scala/reflect/reify/phases/Calcul...</td>\n",
       "    </tr>\n",
       "  </tbody>\n",
       "</table>\n",
       "</div>"
      ],
      "text/plain": [
       "             pid          user                      date  \\\n",
       "13     162838837     zuvizudar 2018-01-14 19:16:16+00:00   \n",
       "26951   22845163      retronym 2014-10-16 10:23:42+00:00   \n",
       "32753   12102550       xeno-by 2014-02-01 01:19:58+00:00   \n",
       "35420   10587633      retronym 2013-12-06 10:04:43+00:00   \n",
       "46700    5320191           soc 2013-04-23 15:47:45+00:00   \n",
       "47009    5291974  bjornregnell 2013-04-22 13:56:06+00:00   \n",
       "47567    5050360      retronym 2013-04-09 06:13:57+00:00   \n",
       "47965    5026775      retronym 2013-04-08 07:07:45+00:00   \n",
       "49156    4786005     starblood 2013-03-25 02:48:48+00:00   \n",
       "51313    4295399      retronym 2013-02-24 21:43:43+00:00   \n",
       "\n",
       "                                                    file  \n",
       "13     src/compiler/scala/reflect/reify/phases/Calcul...  \n",
       "26951  src/compiler/scala/reflect/reify/phases/Calcul...  \n",
       "32753  src/compiler/scala/reflect/reify/phases/Calcul...  \n",
       "35420  src/compiler/scala/reflect/reify/phases/Calcul...  \n",
       "46700  src/compiler/scala/reflect/reify/phases/Calcul...  \n",
       "47009  src/compiler/scala/reflect/reify/phases/Calcul...  \n",
       "47567  src/compiler/scala/reflect/reify/phases/Calcul...  \n",
       "47965  src/compiler/scala/reflect/reify/phases/Calcul...  \n",
       "49156  src/compiler/scala/reflect/reify/phases/Calcul...  \n",
       "51313  src/compiler/scala/reflect/reify/phases/Calcul...  "
      ]
     },
     "execution_count": 19,
     "metadata": {},
     "output_type": "execute_result"
    }
   ],
   "source": [
    "merged_df[merged_df[\"file\"]==\"src/compiler/scala/reflect/reify/phases/Calculate.scala\"].sort_values(by=\"date\",ascending=False).head(10)"
   ]
  },
  {
   "cell_type": "code",
   "execution_count": 20,
   "id": "184dd302",
   "metadata": {},
   "outputs": [
    {
     "data": {
      "text/plain": [
       "{'bjornregnell', 'retronym', 'soc', 'starblood', 'xeno-by', 'zuvizudar'}"
      ]
     },
     "execution_count": 20,
     "metadata": {},
     "output_type": "execute_result"
    }
   ],
   "source": [
    "set(merged_df[merged_df[\"file\"]==\"src/compiler/scala/reflect/reify/phases/Calculate.scala\"].sort_values(by=\"date\",ascending=False).head(10)[\"user\"])"
   ]
  },
  {
   "cell_type": "markdown",
   "id": "3b5b1063",
   "metadata": {},
   "source": [
    "## 9. The pull requests of two special developers\n",
    "<p>Now that we have identified two potential contacts in the projects, we need to find the person who was most involved in the project in recent times. That person is most likely to answer our questions. For each calendar year, we are interested in understanding the number of pull requests the authors submitted. This will give us a high-level image of their contribution trend to the project.</p>"
   ]
  },
  {
   "cell_type": "code",
   "execution_count": 41,
   "id": "32c440ac",
   "metadata": {},
   "outputs": [
    {
     "data": {
      "text/plain": [
       "Text(0.5, 1.0, '1--xeno-by, 0--soc')"
      ]
     },
     "execution_count": 41,
     "metadata": {},
     "output_type": "execute_result"
    },
    {
     "data": {
      "image/png": "[encoded data removed]",
      "text/plain": [
       "<Figure size 640x480 with 1 Axes>"
      ]
     },
     "metadata": {},
     "output_type": "display_data"
    }
   ],
   "source": [
    "authors = ['xeno-by', 'soc']\n",
    "k=pulls[pulls[\"user\"].isin(authors)]\n",
    "m=k.groupby([\"user\",k[\"date\"].dt.year])[\"pid\"].count().reset_index()\n",
    "o=pd.get_dummies(m.user,drop_first=True)\n",
    "p=pd.concat([m,o],axis=1)\n",
    "sns.barplot(data=p,x=\"date\",y=\"pid\",hue=\"xeno-by\")\n",
    "plt.title(\"1--xeno-by, 0--soc\")"
   ]
  },
  {
   "cell_type": "markdown",
   "id": "2c322efa",
   "metadata": {},
   "source": [
    "## 10. Visualizing the contributions of each developer\n",
    "<p>As mentioned before, it is important to make a distinction between the global expertise and contribution levels and the contribution levels at a more granular level (file, submodule, etc.) In our case, we want to see which of our two developers of interest have the most experience with the code in a given file. We will measure experience by the number of pull requests submitted that affect that file and how recent those pull requests were submitted.</p>"
   ]
  },
  {
   "cell_type": "code",
   "execution_count": 43,
   "id": "27134b7b",
   "metadata": {},
   "outputs": [
    {
     "data": {
      "text/plain": [
       "Text(0.5, 1.0, '1--xeno-by, 0--soc')"
      ]
     },
     "execution_count": 43,
     "metadata": {},
     "output_type": "execute_result"
    },
    {
     "data": {
      "image/png": "[encoded data removed]",
      "text/plain": [
       "<Figure size 640x480 with 1 Axes>"
      ]
     },
     "metadata": {},
     "output_type": "display_data"
    }
   ],
   "source": [
    "authors = ['xeno-by', 'soc']\n",
    "file = 'src/compiler/scala/reflect/reify/phases/Calculate.scala'\n",
    "\n",
    "k=merged_df[merged_df[\"user\"].isin(authors)]\n",
    "k=k[k[\"file\"]==file]\n",
    "m=k.groupby([\"user\",k[\"date\"].dt.year])[\"pid\"].count().reset_index()\n",
    "o=pd.get_dummies(m.user,drop_first=True)\n",
    "p=pd.concat([m,o],axis=1)\n",
    "sns.barplot(data=p,x=\"date\",y=\"pid\",hue=\"xeno-by\")\n",
    "plt.title(\"1--xeno-by, 0--soc\")"
   ]
  },
  {
   "cell_type": "markdown",
   "id": "f7f2bcca",
   "metadata": {},
   "source": [
    "## The End"
   ]
  }
 ],
 "metadata": {
  "kernelspec": {
   "display_name": "Python 3 (ipykernel)",
   "language": "python",
   "name": "python3"
  },
  "language_info": {
   "codemirror_mode": {
    "name": "ipython",
    "version": 3
   },
   "file_extension": ".py",
   "mimetype": "text/x-python",
   "name": "python",
   "nbconvert_exporter": "python",
   "pygments_lexer": "ipython3",
   "version": "3.10.9"
  }
 },
 "nbformat": 4,
 "nbformat_minor": 5
}
